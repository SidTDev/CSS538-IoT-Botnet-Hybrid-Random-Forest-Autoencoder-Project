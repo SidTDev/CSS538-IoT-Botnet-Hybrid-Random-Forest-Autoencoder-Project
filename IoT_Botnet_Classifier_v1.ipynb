{
 "cells": [
  {
   "cell_type": "code",
   "execution_count": null,
   "metadata": {},
   "outputs": [],
   "source": [
    "# Import necessary libraries\n",
    "from tensorflow.keras.models import Sequential\n",
    "from tensorflow.keras.layers import Dense, Flatten\n",
    "from tensorflow.keras.datasets import fashion_mnist\n",
    "from tensorflow.keras.utils import to_categorical\n",
    "\n",
    "# Load dataset\n",
    "data = pd.read_csv('UNSW_2018_IoT_Botnet_Final_10_Best.csv')\n",
    "\n",
    "# Extract features and labels\n",
    "X = data[['pkSeqID', 'stime', 'flgs', 'proto', 'saddr', \n",
    "        'sport', 'daddr', 'dport', 'pkts', 'bytes']]\n",
    "y = data['attack_type']  # DDoS or DoS\n",
    "\n",
    "# Normalize features\n",
    "scaler = StandardScaler()\n",
    "X_scaled = scaler.fit_transform(X)\n",
    "\n",
    "# Split data\n",
    "return train_test_split(X_scaled, y, test_size=0.2, stratify=y, random_state=42)\n"
   ]
  }
 ],
 "metadata": {
  "kernelspec": {
   "display_name": ".venv",
   "language": "python",
   "name": "python3"
  },
  "language_info": {
   "name": "python",
   "version": "3.11.9"
  }
 },
 "nbformat": 4,
 "nbformat_minor": 2
}
